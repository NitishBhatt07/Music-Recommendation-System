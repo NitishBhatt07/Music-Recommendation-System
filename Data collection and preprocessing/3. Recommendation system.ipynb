{
 "cells": [
  {
   "cell_type": "code",
   "execution_count": 1,
   "id": "c61ce1a2",
   "metadata": {},
   "outputs": [],
   "source": [
    "import pandas as pd"
   ]
  },
  {
   "cell_type": "code",
   "execution_count": 2,
   "id": "12d30114",
   "metadata": {},
   "outputs": [],
   "source": [
    "df1 = pd.read_csv(\"data/playlist_01.csv\")\n",
    "df2 = pd.read_csv(\"data/playlist_02.csv\")\n",
    "df3 = pd.read_csv(\"data/playlist_03.csv\")"
   ]
  },
  {
   "cell_type": "code",
   "execution_count": 4,
   "id": "d5a6d14b",
   "metadata": {},
   "outputs": [],
   "source": [
    "df = pd.concat([df1,df2,df3],axis=0)"
   ]
  },
  {
   "cell_type": "code",
   "execution_count": 7,
   "id": "c35236fd",
   "metadata": {},
   "outputs": [],
   "source": [
    "df.to_csv(\"data/allData.csv\")"
   ]
  },
  {
   "cell_type": "code",
   "execution_count": 8,
   "id": "276e5289",
   "metadata": {},
   "outputs": [
    {
     "data": {
      "text/html": [
       "<div>\n",
       "<style scoped>\n",
       "    .dataframe tbody tr th:only-of-type {\n",
       "        vertical-align: middle;\n",
       "    }\n",
       "\n",
       "    .dataframe tbody tr th {\n",
       "        vertical-align: top;\n",
       "    }\n",
       "\n",
       "    .dataframe thead th {\n",
       "        text-align: right;\n",
       "    }\n",
       "</style>\n",
       "<table border=\"1\" class=\"dataframe\">\n",
       "  <thead>\n",
       "    <tr style=\"text-align: right;\">\n",
       "      <th></th>\n",
       "      <th>id</th>\n",
       "      <th>song</th>\n",
       "      <th>album</th>\n",
       "      <th>singers</th>\n",
       "      <th>genres</th>\n",
       "      <th>popularity</th>\n",
       "      <th>decade</th>\n",
       "      <th>thumbnail</th>\n",
       "    </tr>\n",
       "  </thead>\n",
       "  <tbody>\n",
       "    <tr>\n",
       "      <th>0</th>\n",
       "      <td>1tqysapcCh1lWEAc9dIFpa</td>\n",
       "      <td>Dil Galti Kar Baitha Hai</td>\n",
       "      <td>Dil Galti Kar Baitha Hai</td>\n",
       "      <td>['Jubin Nautiyal', 'Meet Bros.', 'Shardul Rath...</td>\n",
       "      <td>['desi pop', 'filmi', 'hare krishna', 'modern ...</td>\n",
       "      <td>74</td>\n",
       "      <td>20</td>\n",
       "      <td>https://i.scdn.co/image/ab6761610000e5eb1a9d9c...</td>\n",
       "    </tr>\n",
       "  </tbody>\n",
       "</table>\n",
       "</div>"
      ],
      "text/plain": [
       "                       id                      song                     album  \\\n",
       "0  1tqysapcCh1lWEAc9dIFpa  Dil Galti Kar Baitha Hai  Dil Galti Kar Baitha Hai   \n",
       "\n",
       "                                             singers  \\\n",
       "0  ['Jubin Nautiyal', 'Meet Bros.', 'Shardul Rath...   \n",
       "\n",
       "                                              genres  popularity  decade  \\\n",
       "0  ['desi pop', 'filmi', 'hare krishna', 'modern ...          74      20   \n",
       "\n",
       "                                           thumbnail  \n",
       "0  https://i.scdn.co/image/ab6761610000e5eb1a9d9c...  "
      ]
     },
     "execution_count": 8,
     "metadata": {},
     "output_type": "execute_result"
    }
   ],
   "source": [
    "df.head(1)"
   ]
  },
  {
   "cell_type": "code",
   "execution_count": 9,
   "id": "1f7b7270",
   "metadata": {},
   "outputs": [],
   "source": [
    "def convertToList(feature):\n",
    "    df[feature+\"_list\"] = [x.replace(\"[\",\"\").replace(\"]\",\"\").replace(\"'\",\"\").replace(\".\",\"\").split(\",\") for x in df[feature]]"
   ]
  },
  {
   "cell_type": "code",
   "execution_count": 11,
   "id": "b26883d0",
   "metadata": {},
   "outputs": [],
   "source": [
    "convertToList(\"singers\")\n",
    "convertToList(\"genres\")"
   ]
  },
  {
   "cell_type": "code",
   "execution_count": 27,
   "id": "d22b1b93",
   "metadata": {},
   "outputs": [
    {
     "data": {
      "text/html": [
       "<div>\n",
       "<style scoped>\n",
       "    .dataframe tbody tr th:only-of-type {\n",
       "        vertical-align: middle;\n",
       "    }\n",
       "\n",
       "    .dataframe tbody tr th {\n",
       "        vertical-align: top;\n",
       "    }\n",
       "\n",
       "    .dataframe thead th {\n",
       "        text-align: right;\n",
       "    }\n",
       "</style>\n",
       "<table border=\"1\" class=\"dataframe\">\n",
       "  <thead>\n",
       "    <tr style=\"text-align: right;\">\n",
       "      <th></th>\n",
       "      <th>id</th>\n",
       "      <th>song</th>\n",
       "      <th>album</th>\n",
       "      <th>singers</th>\n",
       "      <th>genres</th>\n",
       "      <th>popularity</th>\n",
       "      <th>decade</th>\n",
       "      <th>thumbnail</th>\n",
       "      <th>singers_list</th>\n",
       "      <th>genres_list</th>\n",
       "    </tr>\n",
       "  </thead>\n",
       "  <tbody>\n",
       "    <tr>\n",
       "      <th>0</th>\n",
       "      <td>1tqysapcCh1lWEAc9dIFpa</td>\n",
       "      <td>Dil Galti Kar Baitha Hai</td>\n",
       "      <td>Dil Galti Kar Baitha Hai</td>\n",
       "      <td>['Jubin Nautiyal', 'Meet Bros.', 'Shardul Rath...</td>\n",
       "      <td>['desi pop', 'filmi', 'hare krishna', 'modern ...</td>\n",
       "      <td>74</td>\n",
       "      <td>20</td>\n",
       "      <td>https://i.scdn.co/image/ab6761610000e5eb1a9d9c...</td>\n",
       "      <td>[Jubin Nautiyal,  Meet Bros,  Shardul Rathod]</td>\n",
       "      <td>[desi pop,  filmi,  hare krishna,  modern boll...</td>\n",
       "    </tr>\n",
       "    <tr>\n",
       "      <th>1</th>\n",
       "      <td>4mRPyvdSBxARQIFeXXM13s</td>\n",
       "      <td>Saamna</td>\n",
       "      <td>Saamna</td>\n",
       "      <td>['AKASA']</td>\n",
       "      <td>['desi pop', 'modern bollywood']</td>\n",
       "      <td>54</td>\n",
       "      <td>20</td>\n",
       "      <td>https://i.scdn.co/image/ab6761610000e5eb626c03...</td>\n",
       "      <td>[AKASA]</td>\n",
       "      <td>[desi pop,  modern bollywood]</td>\n",
       "    </tr>\n",
       "    <tr>\n",
       "      <th>2</th>\n",
       "      <td>3tPQOjkxO3mrYrrgkTeXgH</td>\n",
       "      <td>Main Teri Ho Gayi</td>\n",
       "      <td>Main Teri Ho Gayi</td>\n",
       "      <td>['Nikhita Gandhi']</td>\n",
       "      <td>['desi pop', 'modern bollywood']</td>\n",
       "      <td>68</td>\n",
       "      <td>20</td>\n",
       "      <td>https://i.scdn.co/image/ab6761610000e5eb5328de...</td>\n",
       "      <td>[Nikhita Gandhi]</td>\n",
       "      <td>[desi pop,  modern bollywood]</td>\n",
       "    </tr>\n",
       "    <tr>\n",
       "      <th>3</th>\n",
       "      <td>2sN4fSzAm2rAL0HIurPCEM</td>\n",
       "      <td>Teri Meri Ladayi</td>\n",
       "      <td>Teri Meri Ladayi</td>\n",
       "      <td>['Maninder Buttar', 'AKASA']</td>\n",
       "      <td>['desi hip hop', 'desi pop', 'punjabi pop']</td>\n",
       "      <td>62</td>\n",
       "      <td>20</td>\n",
       "      <td>https://i.scdn.co/image/ab6761610000e5eb5b4f3f...</td>\n",
       "      <td>[Maninder Buttar,  AKASA]</td>\n",
       "      <td>[desi hip hop,  desi pop,  punjabi pop]</td>\n",
       "    </tr>\n",
       "    <tr>\n",
       "      <th>4</th>\n",
       "      <td>6WOdPJmexxFINcKMkP2jMG</td>\n",
       "      <td>Maiyya Mainu</td>\n",
       "      <td>Jersey</td>\n",
       "      <td>['Sachet Tandon']</td>\n",
       "      <td>['desi pop', 'modern bollywood']</td>\n",
       "      <td>69</td>\n",
       "      <td>20</td>\n",
       "      <td>https://i.scdn.co/image/ab6761610000e5ebb81628...</td>\n",
       "      <td>[Sachet Tandon]</td>\n",
       "      <td>[desi pop,  modern bollywood]</td>\n",
       "    </tr>\n",
       "  </tbody>\n",
       "</table>\n",
       "</div>"
      ],
      "text/plain": [
       "                       id                      song                     album  \\\n",
       "0  1tqysapcCh1lWEAc9dIFpa  Dil Galti Kar Baitha Hai  Dil Galti Kar Baitha Hai   \n",
       "1  4mRPyvdSBxARQIFeXXM13s                    Saamna                    Saamna   \n",
       "2  3tPQOjkxO3mrYrrgkTeXgH         Main Teri Ho Gayi         Main Teri Ho Gayi   \n",
       "3  2sN4fSzAm2rAL0HIurPCEM          Teri Meri Ladayi          Teri Meri Ladayi   \n",
       "4  6WOdPJmexxFINcKMkP2jMG              Maiyya Mainu                   Jersey    \n",
       "\n",
       "                                             singers  \\\n",
       "0  ['Jubin Nautiyal', 'Meet Bros.', 'Shardul Rath...   \n",
       "1                                          ['AKASA']   \n",
       "2                                 ['Nikhita Gandhi']   \n",
       "3                       ['Maninder Buttar', 'AKASA']   \n",
       "4                                  ['Sachet Tandon']   \n",
       "\n",
       "                                              genres  popularity  decade  \\\n",
       "0  ['desi pop', 'filmi', 'hare krishna', 'modern ...          74      20   \n",
       "1                   ['desi pop', 'modern bollywood']          54      20   \n",
       "2                   ['desi pop', 'modern bollywood']          68      20   \n",
       "3        ['desi hip hop', 'desi pop', 'punjabi pop']          62      20   \n",
       "4                   ['desi pop', 'modern bollywood']          69      20   \n",
       "\n",
       "                                           thumbnail  \\\n",
       "0  https://i.scdn.co/image/ab6761610000e5eb1a9d9c...   \n",
       "1  https://i.scdn.co/image/ab6761610000e5eb626c03...   \n",
       "2  https://i.scdn.co/image/ab6761610000e5eb5328de...   \n",
       "3  https://i.scdn.co/image/ab6761610000e5eb5b4f3f...   \n",
       "4  https://i.scdn.co/image/ab6761610000e5ebb81628...   \n",
       "\n",
       "                                    singers_list  \\\n",
       "0  [Jubin Nautiyal,  Meet Bros,  Shardul Rathod]   \n",
       "1                                        [AKASA]   \n",
       "2                               [Nikhita Gandhi]   \n",
       "3                      [Maninder Buttar,  AKASA]   \n",
       "4                                [Sachet Tandon]   \n",
       "\n",
       "                                         genres_list  \n",
       "0  [desi pop,  filmi,  hare krishna,  modern boll...  \n",
       "1                      [desi pop,  modern bollywood]  \n",
       "2                      [desi pop,  modern bollywood]  \n",
       "3            [desi hip hop,  desi pop,  punjabi pop]  \n",
       "4                      [desi pop,  modern bollywood]  "
      ]
     },
     "execution_count": 27,
     "metadata": {},
     "output_type": "execute_result"
    }
   ],
   "source": [
    "df.head()"
   ]
  },
  {
   "cell_type": "code",
   "execution_count": 26,
   "id": "bf3b3ca9",
   "metadata": {},
   "outputs": [
    {
     "name": "stdout",
     "output_type": "stream",
     "text": [
      "Kahin Toh Hogi Woh\n",
      "Tumhe Apna Banane Ka\n",
      "Mere Yaaraa Reprise \n",
      "Sylvia\n",
      "Naak Pe Gussa\n",
      "Nainowale Ne\n",
      "Whistle Baja 2.0\n"
     ]
    }
   ],
   "source": [
    "sin = \"Neeti Mohan\"\n",
    "for i in range(len(df['singers_list'])):\n",
    "    if sin in df['singers_list'][i]:\n",
    "        print(df['song'][i])"
   ]
  },
  {
   "cell_type": "code",
   "execution_count": 40,
   "id": "e33a038f",
   "metadata": {},
   "outputs": [
    {
     "data": {
      "text/plain": [
       "1    https://i.scdn.co/image/ab6761610000e5eb626c03...\n",
       "Name: thumbnail, dtype: object"
      ]
     },
     "execution_count": 40,
     "metadata": {},
     "output_type": "execute_result"
    }
   ],
   "source": [
    "song_name = \"Saamna\"\n",
    "full_path = df.query(f\"song == '{song_name}'\")[\"thumbnail\"]\n",
    "full_path"
   ]
  },
  {
   "cell_type": "code",
   "execution_count": 42,
   "id": "7e6a8875",
   "metadata": {},
   "outputs": [
    {
     "data": {
      "text/plain": [
       "'https://i.scdn.co/image/ab6761610000e5eb626c03003c1be728e15712d3'"
      ]
     },
     "execution_count": 42,
     "metadata": {},
     "output_type": "execute_result"
    }
   ],
   "source": [
    "img_id_0 = full_path.index[0]\n",
    "img_0 = df.thumbnail[img_id_0]\n",
    "# st.image(img_0)\n",
    "img_0"
   ]
  },
  {
   "cell_type": "code",
   "execution_count": null,
   "id": "ad0aa017",
   "metadata": {},
   "outputs": [],
   "source": []
  },
  {
   "cell_type": "code",
   "execution_count": 37,
   "id": "5a2a7166",
   "metadata": {},
   "outputs": [
    {
     "data": {
      "text/plain": [
       "1"
      ]
     },
     "execution_count": 37,
     "metadata": {},
     "output_type": "execute_result"
    }
   ],
   "source": [
    "img_id_0 = full_path.index[0]\n",
    "img_id_0"
   ]
  },
  {
   "cell_type": "code",
   "execution_count": 38,
   "id": "bcfa9963",
   "metadata": {},
   "outputs": [
    {
     "data": {
      "text/plain": [
       "'https://i.scdn.co/image/ab6761610000e5eb626c03003c1be728e15712d3'"
      ]
     },
     "execution_count": 38,
     "metadata": {},
     "output_type": "execute_result"
    }
   ],
   "source": [
    "df.thumbnail[img_id_0]"
   ]
  },
  {
   "cell_type": "code",
   "execution_count": null,
   "id": "3d8be744",
   "metadata": {},
   "outputs": [],
   "source": []
  },
  {
   "cell_type": "code",
   "execution_count": 34,
   "id": "0dff4b26",
   "metadata": {},
   "outputs": [
    {
     "data": {
      "text/plain": [
       "1"
      ]
     },
     "execution_count": 34,
     "metadata": {},
     "output_type": "execute_result"
    }
   ],
   "source": [
    "img_id_0 = posters.index[0]\n",
    "img_0 = new_df.thumbnail[img_id_0]"
   ]
  },
  {
   "cell_type": "code",
   "execution_count": 28,
   "id": "33f75a21",
   "metadata": {},
   "outputs": [
    {
     "name": "stdout",
     "output_type": "stream",
     "text": [
      "drivers license\n",
      "Blank Space\n",
      "The Joker And The Queen \n",
      "cardigan\n",
      "exile \n",
      "august\n",
      "this is me trying\n",
      "invisible string\n",
      "What Lovers Do \n",
      "willow \n",
      "Style\n",
      "coney island \n",
      "Out Of The Woods\n",
      "willow\n",
      "As It Was\n",
      "Photograph\n",
      "you broke me first\n",
      "jealousy, jealousy\n",
      "Say You Won't Let Go\n",
      "Before You Go\n",
      "The Very First Night \n",
      "If This Was A Movie\n",
      "Unsaid Emily \n",
      "Perfect Harmony \n",
      "Come Back...Be Here \n",
      "Wildest Dreams \n",
      "Edge of Great \n",
      "I Knew You Were Trouble \n",
      "You Belong With Me \n",
      "Babe \n",
      "We Are Never Ever Getting Back Together\n",
      "Cruel Summer\n",
      "Big Energy\n",
      "she's all i wanna be\n",
      "good 4 u\n",
      "Cravin \n",
      "Type a Way \n",
      "Moist\n",
      "Music For a Sushi Restaurant\n",
      "Grapejuice\n",
      "Matilda\n",
      "Little Freak\n",
      "Daylight\n",
      "Cinema\n",
      "Daydreaming\n",
      "Love Of My Life\n",
      "Satellite\n",
      "Keep Driving\n",
      "Boyfriends\n",
      "Shivers\n",
      "This Love \n",
      "Skyline\n",
      "chaotic\n",
      "Wings\n",
      "Give Me Love\n",
      "One More Night\n",
      "Thinking out Loud\n",
      "Animals\n",
      "As It Was\n",
      "Late Night Talking\n",
      "Good Days\n",
      "Talk \n",
      "Impossible\n",
      "Girls Like You \n",
      "Shake It Off\n",
      "Better\n",
      "Know Your Worth\n",
      "Habit\n",
      "Eleven\n",
      "Before You Go\n",
      "Walls\n",
      "Up All Night\n",
      "Treat People With Kindness\n",
      "Lights Up\n",
      "Kill My Mind\n",
      "Euphoria\n",
      "Right Back \n",
      "You \n",
      "Treehouse\n",
      "Sign of the Times\n",
      "Galway Girl\n",
      "iSpy \n",
      "Location\n",
      "Cold\n",
      "Sweet Creature\n",
      "Castle on the Hill\n",
      "Perfect\n",
      "Hey Stephen\n",
      "Mean\n",
      "Teardrops On My Guitar \n",
      "Payphone \n",
      "Lego House\n",
      "She Will Be Loved \n",
      "Help Me Out \n",
      "New Year’s Day\n",
      "This Is Why We Can't Have Nice Things\n",
      "Dress\n",
      "Dancing With Our Hands Tied\n",
      "King Of My Heart\n",
      "Getaway Car\n",
      "I Did Something Bad\n",
      "So It Goes...\n",
      "End Game\n",
      "Don’t Blame Me\n",
      "Perfect Duet \n",
      "American Teen\n",
      "8TEEN\n",
      "Fifteen\n",
      "Forever & Always\n",
      "Picture To Burn\n",
      "New Man\n",
      "Drunk\n",
      "Give Me Love\n",
      "Kiwi\n",
      "Nancy Mulligan\n",
      "Fearless\n",
      "Sparks Fly\n",
      "Should've Said No\n",
      "The Story Of Us\n",
      "Speak Now\n",
      "Better Than Revenge\n",
      "Tim McGraw\n",
      "Enchanted\n",
      "Ours\n",
      "The Way I Loved You\n",
      "Dear John\n",
      "Long Live\n",
      "You're Not Sorry\n",
      "Never Grow Up\n",
      "Tell Me Why\n",
      "I'm Only Me When I'm With You\n",
      "The Best Day\n",
      "Teardrops on My Guitar \n",
      "Mary's Song \n",
      "Stay Beautiful\n",
      "Jump Then Fall\n",
      "If This Was A Movie\n",
      "Cold As You\n",
      "Invisible\n",
      "Forever & Always \n",
      "Tied Together with a Smile\n",
      "A Place in this World\n",
      "Come In With The Rain\n",
      "Untouchable\n",
      "The Moment I Knew\n",
      "Come Back...Be Here\n",
      "Girl At Home\n",
      "A Perfectly Good Heart\n",
      "Crazier\n",
      "The Other Side Of The Door\n",
      "You Are In Love\n",
      "New Romantics\n",
      "SuperStar\n",
      "State Of Grace \n",
      "The Outside\n",
      "Back To December \n",
      "Haunted \n",
      "Wonderland\n",
      "Treacherous \n",
      "Red \n",
      "Eyes Open\n",
      "Back To December/Apologize/You're Not Sorry \n",
      "Thriller \n",
      "Black or White \n",
      "Remember the Time\n",
      "Sour Patch Kids\n",
      "Doubt It\n",
      "Playinwitme \n",
      "Love Lies \n",
      "Not About Angels\n",
      "U.N.I.\n",
      "Take Me Home\n",
      "Florets\n",
      "Just A Crush\n",
      "I Don't Know My Name\n",
      "Beautiful Thing\n",
      "A Better Life\n",
      "Naked \n",
      "Shot Down\n",
      "imagine if\n",
      "Tough\n",
      "Drew Barrymore\n",
      "Rewrite The Stars \n",
      "Harder To Breathe\n",
      "Stray\n",
      "Saturday Nights\n",
      "Better\n",
      "Right Back\n",
      "Hundred\n",
      "Free Spirit\n",
      "Girls Like You\n",
      "My Bad\n",
      "Twenty One\n",
      "Back to You \n",
      "Just Like You\n",
      "Gucci Flip Flops \n",
      "OTW\n",
      "i hate u, i love u \n",
      "Roses \n",
      "Love Story \n",
      "Supermarket Flowers\n",
      "Cold\n",
      "Shape of You \n",
      "Outta My Head \n",
      "Self\n",
      "Two of Us\n",
      "Thriller\n",
      "Won't Go Home Without You\n",
      "Misery\n",
      "Makes Me Wonder\n",
      "If I Ain’t Got You \n",
      "If I Never See Your Face Again\n",
      "Tee Shirt \n",
      "Sign of the Times\n",
      "The Ways \n",
      "Don't Stop 'Til You Get Enough\n",
      "Clean Eyes \n",
      "The War\n",
      "Fear of the Water\n",
      "Where's My Love \n",
      "The Bird\n",
      "Hurt for Me\n",
      "I See Fire \n",
      "Can I Be Him \n",
      "Miss You\n",
      "Give In to Me\n",
      "Wild Horses\n",
      "Keeping Your Head Up\n",
      "Keeping Your Head Up \n",
      "Into It\n",
      "The Walls\n",
      "Dancer in the Dark\n",
      "Crying Over You ◐ \n",
      "Maps\n",
      "Memories\n",
      "Photograph\n",
      "Adore You\n",
      "Animals\n",
      "Castle on the Hill\n",
      "Cold \n",
      "What Lovers Do \n",
      "I Don't Care \n",
      "What Lovers Do\n",
      "Eastside \n",
      "Moves Like Jagger \n",
      "Galway Girl\n",
      "ME! \n",
      "Shake It Off\n",
      "Sugar\n",
      "Girls Like You \n",
      "Someone You Loved\n",
      "Mine\n",
      "Delicate\n",
      "Thinking out Loud\n",
      "Blank Space\n",
      "Style\n"
     ]
    }
   ],
   "source": [
    "sin = \"pop\"\n",
    "for i in range(len(df['genres_list'])):\n",
    "    if sin in df['genres_list'][i]:\n",
    "        print(df['song'][i])"
   ]
  },
  {
   "cell_type": "code",
   "execution_count": 16,
   "id": "441e3baf",
   "metadata": {},
   "outputs": [
    {
     "data": {
      "text/plain": [
       "'AKASA'"
      ]
     },
     "execution_count": 16,
     "metadata": {},
     "output_type": "execute_result"
    }
   ],
   "source": [
    "df.singers_list[1][0]"
   ]
  },
  {
   "cell_type": "code",
   "execution_count": null,
   "id": "09b84c0f",
   "metadata": {},
   "outputs": [],
   "source": []
  },
  {
   "cell_type": "code",
   "execution_count": null,
   "id": "58f8f76a",
   "metadata": {},
   "outputs": [],
   "source": []
  },
  {
   "cell_type": "code",
   "execution_count": null,
   "id": "9a6d0eac",
   "metadata": {},
   "outputs": [],
   "source": []
  },
  {
   "cell_type": "code",
   "execution_count": null,
   "id": "6f59719b",
   "metadata": {},
   "outputs": [],
   "source": []
  },
  {
   "cell_type": "code",
   "execution_count": null,
   "id": "aeeee9d6",
   "metadata": {},
   "outputs": [],
   "source": []
  },
  {
   "cell_type": "code",
   "execution_count": null,
   "id": "4a9a5515",
   "metadata": {},
   "outputs": [],
   "source": []
  },
  {
   "cell_type": "code",
   "execution_count": 209,
   "id": "8719967f",
   "metadata": {},
   "outputs": [],
   "source": [
    "df.to_csv(\"data/allData.csv\")"
   ]
  },
  {
   "cell_type": "code",
   "execution_count": 172,
   "id": "37a1cf38",
   "metadata": {},
   "outputs": [],
   "source": [
    "singers_top = df.singers_list.value_counts()[0:30]\n",
    "genres_top = df.genres_list.value_counts()[1:31]"
   ]
  },
  {
   "cell_type": "code",
   "execution_count": 198,
   "id": "50005622",
   "metadata": {},
   "outputs": [
    {
     "data": {
      "text/plain": [
       "['Kayou',\n",
       " 'Taylor Swift',\n",
       " 'Lacuna Coil',\n",
       " 'Flyleaf',\n",
       " 'Green Day',\n",
       " 'Charlie Brown',\n",
       " 'Twenty One Pilots',\n",
       " 'Muse',\n",
       " 'Kishore Kumar',\n",
       " '\"Why Dont We\"',\n",
       " 'Arijit Singh',\n",
       " 'Kumar Sanu',\n",
       " 'Highasakite',\n",
       " 'Meditation Zen Master',\n",
       " 'Bastille',\n",
       " 'Red Hot Chili Peppers',\n",
       " 'Coldplay',\n",
       " 'Mohammed Rafi',\n",
       " 'Florence + The Machine',\n",
       " 'Daft Punk',\n",
       " 'Ariana Grande',\n",
       " 'Life Sounds Nature',\n",
       " 'Lamb of God',\n",
       " 'Lata Mangeshkar',\n",
       " 'BTS',\n",
       " 'Janove',\n",
       " 'Oh Wonder',\n",
       " 'Arctic Monkeys',\n",
       " 'Hans Zimmer',\n",
       " 'Harry Styles']"
      ]
     },
     "execution_count": 198,
     "metadata": {},
     "output_type": "execute_result"
    }
   ],
   "source": [
    "sing = []\n",
    "for i in range(len(singers_top)):\n",
    "    if singers_top.index[i][0] not in sing:\n",
    "        sing.append(singers_top.index[i][0])\n",
    "sing"
   ]
  },
  {
   "cell_type": "code",
   "execution_count": 210,
   "id": "faae1632",
   "metadata": {},
   "outputs": [
    {
     "data": {
      "text/plain": [
       "['Kayou',\n",
       " 'Taylor Swift',\n",
       " 'Lacuna Coil',\n",
       " 'Flyleaf',\n",
       " 'Green Day',\n",
       " 'Charlie Brown',\n",
       " 'Twenty One Pilots',\n",
       " 'Muse',\n",
       " 'Kishore Kumar',\n",
       " '\"Why Dont We\"',\n",
       " 'Arijit Singh']"
      ]
     },
     "execution_count": 210,
     "metadata": {},
     "output_type": "execute_result"
    }
   ],
   "source": [
    "sing[0:11]"
   ]
  },
  {
   "cell_type": "code",
   "execution_count": 211,
   "id": "a4282686",
   "metadata": {},
   "outputs": [
    {
     "data": {
      "text/plain": [
       "['filmi',\n",
       " 'symphonicmetal',\n",
       " 'punjabipop',\n",
       " 'country',\n",
       " 'numetal',\n",
       " 'dancepop',\n",
       " 'ccm',\n",
       " 'sufi',\n",
       " 'permanentwave',\n",
       " 'chutney',\n",
       " 'modernrock']"
      ]
     },
     "execution_count": 211,
     "metadata": {},
     "output_type": "execute_result"
    }
   ],
   "source": [
    "genreTop30 = []\n",
    "for gen_li in genres_top.index:\n",
    "    for gen in gen_li:\n",
    "        genreTop30.append(gen.replace(\" \",\"\"))\n",
    "genreTop30 = list(set(genreTop30))\n",
    "genreTop30[0:11]"
   ]
  },
  {
   "cell_type": "code",
   "execution_count": null,
   "id": "a8c865d1",
   "metadata": {},
   "outputs": [],
   "source": []
  },
  {
   "cell_type": "code",
   "execution_count": null,
   "id": "bbff0a8b",
   "metadata": {},
   "outputs": [],
   "source": []
  },
  {
   "cell_type": "code",
   "execution_count": null,
   "id": "029ccda1",
   "metadata": {},
   "outputs": [],
   "source": []
  },
  {
   "cell_type": "code",
   "execution_count": null,
   "id": "b0ff35c7",
   "metadata": {},
   "outputs": [],
   "source": []
  },
  {
   "cell_type": "code",
   "execution_count": 6,
   "id": "aad9d57d",
   "metadata": {},
   "outputs": [
    {
     "data": {
      "text/plain": [
       "(11856, 9)"
      ]
     },
     "execution_count": 6,
     "metadata": {},
     "output_type": "execute_result"
    }
   ],
   "source": [
    "df.shape"
   ]
  },
  {
   "cell_type": "code",
   "execution_count": 7,
   "id": "aabecc82",
   "metadata": {},
   "outputs": [],
   "source": [
    "df.drop_duplicates(subset =\"song\", keep = False, inplace = True)"
   ]
  },
  {
   "cell_type": "code",
   "execution_count": 8,
   "id": "f2f003ac",
   "metadata": {},
   "outputs": [
    {
     "data": {
      "text/plain": [
       "(11249, 9)"
      ]
     },
     "execution_count": 8,
     "metadata": {},
     "output_type": "execute_result"
    }
   ],
   "source": [
    "df.shape"
   ]
  },
  {
   "cell_type": "code",
   "execution_count": 9,
   "id": "0dbf0f36",
   "metadata": {},
   "outputs": [],
   "source": [
    "df.drop([\"Unnamed: 0\"],axis=1,inplace=True)"
   ]
  },
  {
   "cell_type": "code",
   "execution_count": 10,
   "id": "54ceeb37",
   "metadata": {},
   "outputs": [],
   "source": [
    "df = df.reset_index(drop=True)"
   ]
  },
  {
   "cell_type": "code",
   "execution_count": 11,
   "id": "574d41f3",
   "metadata": {},
   "outputs": [
    {
     "data": {
      "text/plain": [
       "(11249, 8)"
      ]
     },
     "execution_count": 11,
     "metadata": {},
     "output_type": "execute_result"
    }
   ],
   "source": [
    "df.shape"
   ]
  },
  {
   "cell_type": "code",
   "execution_count": 12,
   "id": "754fdb5b",
   "metadata": {},
   "outputs": [],
   "source": [
    "df.popularity = df.popularity.astype(str)\n",
    "df.decade = df.decade.astype(str)"
   ]
  },
  {
   "cell_type": "code",
   "execution_count": 61,
   "id": "c8309515",
   "metadata": {},
   "outputs": [],
   "source": [
    "comma = []\n",
    "for _ in range(temp_df.shape[0]):\n",
    "    comma.append(\",\")\n",
    "temp_df[\"comma\"] = comma"
   ]
  },
  {
   "cell_type": "code",
   "execution_count": 60,
   "id": "cbff303c",
   "metadata": {},
   "outputs": [],
   "source": [
    "temp_df = df.copy()"
   ]
  },
  {
   "cell_type": "code",
   "execution_count": 62,
   "id": "7e8e4ed3",
   "metadata": {},
   "outputs": [],
   "source": [
    "temp_df[\"tags\"] = temp_df.album+temp_df.singers+temp_df.genres+temp_df.decade+temp_df.comma+temp_df.popularity"
   ]
  },
  {
   "cell_type": "code",
   "execution_count": 63,
   "id": "f3f0a10b",
   "metadata": {},
   "outputs": [
    {
     "data": {
      "text/html": [
       "<div>\n",
       "<style scoped>\n",
       "    .dataframe tbody tr th:only-of-type {\n",
       "        vertical-align: middle;\n",
       "    }\n",
       "\n",
       "    .dataframe tbody tr th {\n",
       "        vertical-align: top;\n",
       "    }\n",
       "\n",
       "    .dataframe thead th {\n",
       "        text-align: right;\n",
       "    }\n",
       "</style>\n",
       "<table border=\"1\" class=\"dataframe\">\n",
       "  <thead>\n",
       "    <tr style=\"text-align: right;\">\n",
       "      <th></th>\n",
       "      <th>id</th>\n",
       "      <th>song</th>\n",
       "      <th>album</th>\n",
       "      <th>singers</th>\n",
       "      <th>genres</th>\n",
       "      <th>popularity</th>\n",
       "      <th>decade</th>\n",
       "      <th>thumbnail</th>\n",
       "      <th>comma</th>\n",
       "      <th>tags</th>\n",
       "    </tr>\n",
       "  </thead>\n",
       "  <tbody>\n",
       "    <tr>\n",
       "      <th>0</th>\n",
       "      <td>1tqysapcCh1lWEAc9dIFpa</td>\n",
       "      <td>Dil Galti Kar Baitha Hai</td>\n",
       "      <td>Dil Galti Kar Baitha Hai</td>\n",
       "      <td>['Jubin Nautiyal', 'Meet Bros.', 'Shardul Rath...</td>\n",
       "      <td>['desi pop', 'filmi', 'hare krishna', 'modern ...</td>\n",
       "      <td>74</td>\n",
       "      <td>20</td>\n",
       "      <td>https://i.scdn.co/image/ab6761610000e5eb1a9d9c...</td>\n",
       "      <td>,</td>\n",
       "      <td>Dil Galti Kar Baitha Hai['Jubin Nautiyal', 'Me...</td>\n",
       "    </tr>\n",
       "  </tbody>\n",
       "</table>\n",
       "</div>"
      ],
      "text/plain": [
       "                       id                      song                     album  \\\n",
       "0  1tqysapcCh1lWEAc9dIFpa  Dil Galti Kar Baitha Hai  Dil Galti Kar Baitha Hai   \n",
       "\n",
       "                                             singers  \\\n",
       "0  ['Jubin Nautiyal', 'Meet Bros.', 'Shardul Rath...   \n",
       "\n",
       "                                              genres popularity decade  \\\n",
       "0  ['desi pop', 'filmi', 'hare krishna', 'modern ...         74     20   \n",
       "\n",
       "                                           thumbnail comma  \\\n",
       "0  https://i.scdn.co/image/ab6761610000e5eb1a9d9c...     ,   \n",
       "\n",
       "                                                tags  \n",
       "0  Dil Galti Kar Baitha Hai['Jubin Nautiyal', 'Me...  "
      ]
     },
     "execution_count": 63,
     "metadata": {},
     "output_type": "execute_result"
    }
   ],
   "source": [
    "temp_df.head(1)"
   ]
  },
  {
   "cell_type": "code",
   "execution_count": 64,
   "id": "e2a12535",
   "metadata": {},
   "outputs": [],
   "source": [
    "new_df = temp_df[[\"id\",\"song\",\"tags\"]]"
   ]
  },
  {
   "cell_type": "code",
   "execution_count": 65,
   "id": "b9416caa",
   "metadata": {},
   "outputs": [
    {
     "data": {
      "text/plain": [
       "0        Dil Galti Kar Baitha Hai['Jubin Nautiyal', 'Me...\n",
       "1        Saamna['AKASA']['desi pop', 'modern bollywood'...\n",
       "2        Main Teri Ho Gayi['Nikhita Gandhi']['desi pop'...\n",
       "3        Teri Meri Ladayi['Maninder Buttar', 'AKASA']['...\n",
       "4        Jersey ['Sachet Tandon']['desi pop', 'modern b...\n",
       "                               ...                        \n",
       "11244    Bitch Better Have My Money['Rihanna']['barbadi...\n",
       "11245    Sugar['Robin Schulz', 'Francesco Yates']['danc...\n",
       "11246    T R A P S O U L['Bryson Tiller']['kentucky hip...\n",
       "11247    Are You With Me['Lost Frequencies']['belgian e...\n",
       "11248    Chaos And The Calm['James Bay']['modern rock',...\n",
       "Name: tags, Length: 11249, dtype: object"
      ]
     },
     "execution_count": 65,
     "metadata": {},
     "output_type": "execute_result"
    }
   ],
   "source": [
    "new_df.tags"
   ]
  },
  {
   "cell_type": "code",
   "execution_count": 66,
   "id": "3ae2e4ea",
   "metadata": {},
   "outputs": [
    {
     "name": "stderr",
     "output_type": "stream",
     "text": [
      "G:\\Program_Files\\Anaconda\\lib\\site-packages\\pandas\\core\\generic.py:5516: SettingWithCopyWarning: \n",
      "A value is trying to be set on a copy of a slice from a DataFrame.\n",
      "Try using .loc[row_indexer,col_indexer] = value instead\n",
      "\n",
      "See the caveats in the documentation: https://pandas.pydata.org/pandas-docs/stable/user_guide/indexing.html#returning-a-view-versus-a-copy\n",
      "  self[name] = value\n"
     ]
    }
   ],
   "source": [
    "new_df.tags = new_df.tags.astype(str)"
   ]
  },
  {
   "cell_type": "code",
   "execution_count": 67,
   "id": "4db15fb0",
   "metadata": {},
   "outputs": [
    {
     "data": {
      "text/html": [
       "<div>\n",
       "<style scoped>\n",
       "    .dataframe tbody tr th:only-of-type {\n",
       "        vertical-align: middle;\n",
       "    }\n",
       "\n",
       "    .dataframe tbody tr th {\n",
       "        vertical-align: top;\n",
       "    }\n",
       "\n",
       "    .dataframe thead th {\n",
       "        text-align: right;\n",
       "    }\n",
       "</style>\n",
       "<table border=\"1\" class=\"dataframe\">\n",
       "  <thead>\n",
       "    <tr style=\"text-align: right;\">\n",
       "      <th></th>\n",
       "      <th>id</th>\n",
       "      <th>song</th>\n",
       "      <th>tags</th>\n",
       "    </tr>\n",
       "  </thead>\n",
       "  <tbody>\n",
       "    <tr>\n",
       "      <th>0</th>\n",
       "      <td>1tqysapcCh1lWEAc9dIFpa</td>\n",
       "      <td>Dil Galti Kar Baitha Hai</td>\n",
       "      <td>Dil Galti Kar Baitha Hai['Jubin Nautiyal', 'Me...</td>\n",
       "    </tr>\n",
       "  </tbody>\n",
       "</table>\n",
       "</div>"
      ],
      "text/plain": [
       "                       id                      song  \\\n",
       "0  1tqysapcCh1lWEAc9dIFpa  Dil Galti Kar Baitha Hai   \n",
       "\n",
       "                                                tags  \n",
       "0  Dil Galti Kar Baitha Hai['Jubin Nautiyal', 'Me...  "
      ]
     },
     "execution_count": 67,
     "metadata": {},
     "output_type": "execute_result"
    }
   ],
   "source": [
    "new_df.head(1)"
   ]
  },
  {
   "cell_type": "code",
   "execution_count": 68,
   "id": "aadb8a8f",
   "metadata": {},
   "outputs": [
    {
     "data": {
      "text/plain": [
       "0        Dil Galti Kar Baitha Hai['Jubin Nautiyal', 'Me...\n",
       "1        Saamna['AKASA']['desi pop', 'modern bollywood'...\n",
       "2        Main Teri Ho Gayi['Nikhita Gandhi']['desi pop'...\n",
       "3        Teri Meri Ladayi['Maninder Buttar', 'AKASA']['...\n",
       "4        Jersey ['Sachet Tandon']['desi pop', 'modern b...\n",
       "                               ...                        \n",
       "11244    Bitch Better Have My Money['Rihanna']['barbadi...\n",
       "11245    Sugar['Robin Schulz', 'Francesco Yates']['danc...\n",
       "11246    T R A P S O U L['Bryson Tiller']['kentucky hip...\n",
       "11247    Are You With Me['Lost Frequencies']['belgian e...\n",
       "11248    Chaos And The Calm['James Bay']['modern rock',...\n",
       "Name: tags, Length: 11249, dtype: object"
      ]
     },
     "execution_count": 68,
     "metadata": {},
     "output_type": "execute_result"
    }
   ],
   "source": [
    "new_df[\"tags\"]"
   ]
  },
  {
   "cell_type": "code",
   "execution_count": 69,
   "id": "9cd54b61",
   "metadata": {
    "collapsed": true
   },
   "outputs": [
    {
     "name": "stderr",
     "output_type": "stream",
     "text": [
      "<ipython-input-69-54eaed0551ad>:2: SettingWithCopyWarning: \n",
      "A value is trying to be set on a copy of a slice from a DataFrame.\n",
      "Try using .loc[row_indexer,col_indexer] = value instead\n",
      "\n",
      "See the caveats in the documentation: https://pandas.pydata.org/pandas-docs/stable/user_guide/indexing.html#returning-a-view-versus-a-copy\n",
      "  new_df[feature] = [x.replace(\"[\",\",\").replace(\"]\",\",\").replace(\"'\",\"\").replace(\",,\",\",\") for x in new_df[feature]]\n"
     ]
    }
   ],
   "source": [
    "def removePunch(feature):\n",
    "    new_df[feature] = [x.replace(\"[\",\",\").replace(\"]\",\",\").replace(\"'\",\"\").replace(\",,\",\",\") for x in new_df[feature]]\n",
    "    \n",
    "removePunch(\"tags\")"
   ]
  },
  {
   "cell_type": "code",
   "execution_count": 70,
   "id": "c99db6ed",
   "metadata": {
    "collapsed": true
   },
   "outputs": [
    {
     "name": "stderr",
     "output_type": "stream",
     "text": [
      "<ipython-input-70-3353c3f28273>:2: SettingWithCopyWarning: \n",
      "A value is trying to be set on a copy of a slice from a DataFrame.\n",
      "Try using .loc[row_indexer,col_indexer] = value instead\n",
      "\n",
      "See the caveats in the documentation: https://pandas.pydata.org/pandas-docs/stable/user_guide/indexing.html#returning-a-view-versus-a-copy\n",
      "  new_df[feature] = new_df[feature].apply(lambda x: x.lower())\n"
     ]
    }
   ],
   "source": [
    "def toLower(feature):\n",
    "    new_df[feature] = new_df[feature].apply(lambda x: x.lower())\n",
    "\n",
    "toLower(\"tags\")\n",
    "toLower(\"song\")"
   ]
  },
  {
   "cell_type": "code",
   "execution_count": 72,
   "id": "7be09626",
   "metadata": {
    "collapsed": true
   },
   "outputs": [
    {
     "name": "stderr",
     "output_type": "stream",
     "text": [
      "<ipython-input-72-13939df7a3d8>:8: SettingWithCopyWarning: \n",
      "A value is trying to be set on a copy of a slice from a DataFrame.\n",
      "Try using .loc[row_indexer,col_indexer] = value instead\n",
      "\n",
      "See the caveats in the documentation: https://pandas.pydata.org/pandas-docs/stable/user_guide/indexing.html#returning-a-view-versus-a-copy\n",
      "  new_df[\"song\"] = songs\n"
     ]
    }
   ],
   "source": [
    "def removeLastSpaceFromSongs():\n",
    "    songs = []\n",
    "    for song in new_df[\"song\"]:\n",
    "        if song[-1] == \" \":\n",
    "            songs.append(song[0:-1])\n",
    "        else:\n",
    "            songs.append(song)\n",
    "    new_df[\"song\"] = songs\n",
    "\n",
    "removeLastSpaceFromSongs()"
   ]
  },
  {
   "cell_type": "code",
   "execution_count": 73,
   "id": "4a3f5dc1",
   "metadata": {},
   "outputs": [],
   "source": [
    "from sklearn.feature_extraction.text import CountVectorizer\n",
    "cv = CountVectorizer(max_features=5000,stop_words=\"english\")"
   ]
  },
  {
   "cell_type": "code",
   "execution_count": 74,
   "id": "0a3e8bc5",
   "metadata": {},
   "outputs": [],
   "source": [
    "vectors = cv.fit_transform(new_df[\"tags\"]).toarray()"
   ]
  },
  {
   "cell_type": "code",
   "execution_count": 76,
   "id": "e90b2ade",
   "metadata": {},
   "outputs": [
    {
     "data": {
      "text/plain": [
       "(11249, 11249)"
      ]
     },
     "execution_count": 76,
     "metadata": {},
     "output_type": "execute_result"
    }
   ],
   "source": [
    "from sklearn.metrics.pairwise import cosine_similarity\n",
    "\n",
    "similarity = cosine_similarity(vectors)\n",
    "similarity.shape"
   ]
  },
  {
   "cell_type": "code",
   "execution_count": 77,
   "id": "3831fdfd",
   "metadata": {},
   "outputs": [],
   "source": [
    "def recommand(song):\n",
    "    # we need first the index of movie then we can select the similarity and then sort the similarity\n",
    "    # index\n",
    "    song = song.lower()\n",
    "    recommended_songs = []\n",
    "    song_index = new_df[new_df['song'] == song].index[0]\n",
    "    distances = similarity[song_index]\n",
    "    # but if we sort the similarities we losse the index postion of the movie so we to save the index as well\n",
    "    song_list = sorted(list(enumerate(distances)) , reverse=True , key= lambda x : x[1])[1:8]\n",
    "    \n",
    "    for i in song_list:\n",
    "        recommended_songs.append(new_df.iloc[i[0]].song)\n",
    "        print(new_df.iloc[i[0]].song)\n",
    "    return recommended_songs"
   ]
  },
  {
   "cell_type": "code",
   "execution_count": 78,
   "id": "c0aa155a",
   "metadata": {},
   "outputs": [
    {
     "name": "stdout",
     "output_type": "stream",
     "text": [
      "you get me rocking & reeling\n",
      "kya\n",
      "bhool bhulaiyaa\n",
      "khwab dekhe sexy lady\n",
      "character dheela\n",
      "character dheela\n",
      "tu hi haqeeqat\n"
     ]
    },
    {
     "data": {
      "text/plain": [
       "'tum mile ,pritam, neeraj shridhar,desi pop, filmi, indian instrumental, modern bollywood,20,81'"
      ]
     },
     "execution_count": 78,
     "metadata": {},
     "output_type": "execute_result"
    }
   ],
   "source": [
    "reco = recommand(\"Tum Mile\")\n",
    "\n",
    "ind = new_df[new_df[\"song\"] == \"tum mile\"].index[0]\n",
    "new_df.tags[ind]"
   ]
  },
  {
   "cell_type": "code",
   "execution_count": 80,
   "id": "ac8d4d0f",
   "metadata": {},
   "outputs": [],
   "source": [
    "import pickle\n",
    "\n",
    "pickle.dump(new_df.to_dict(),open('models/music_dict.pkl','wb'))\n",
    "pickle.dump(similarity,open('models/similarity.pkl','wb'))\n"
   ]
  },
  {
   "cell_type": "code",
   "execution_count": 79,
   "id": "21caf647",
   "metadata": {},
   "outputs": [
    {
     "name": "stdout",
     "output_type": "stream",
     "text": [
      "pritam,pritam, neeraj shridhar, billu barbar,desi pop, filmi, indian instrumental, modern bollywood,20,81\n",
      "perfect 10: love story,pritam, neeraj shridhar,desi pop, filmi, indian instrumental, modern bollywood,20,81\n",
      "bhool bhulaiyaa,pritam, neeraj shridhar,desi pop, filmi, indian instrumental, modern bollywood,20,81\n",
      "bollywood hotties,pritam, neeraj shridhar, monali thakur,desi pop, filmi, indian instrumental, modern bollywood,20,81\n",
      "ready,pritam, neeraj shridhar, amrita kak,desi pop, filmi, indian instrumental, modern bollywood,20,81\n",
      "ready,pritam, neeraj shridhar, amrita kak,desi pop, filmi, indian instrumental, modern bollywood,20,81\n",
      "tum mile ,pritam, javed ali, irshan ashraf, shadab,desi pop, filmi, indian instrumental, modern bollywood,20,81\n"
     ]
    }
   ],
   "source": [
    "index = []\n",
    "for song in reco:\n",
    "    index.append(new_df[new_df[\"song\"] == song].index[0])\n",
    "    \n",
    "for i in index:\n",
    "    print(new_df.tags[i])"
   ]
  },
  {
   "cell_type": "code",
   "execution_count": 81,
   "id": "a84613df",
   "metadata": {},
   "outputs": [
    {
     "name": "stderr",
     "output_type": "stream",
     "text": [
      "<ipython-input-81-3cd11109e1e8>:1: SettingWithCopyWarning: \n",
      "A value is trying to be set on a copy of a slice from a DataFrame.\n",
      "Try using .loc[row_indexer,col_indexer] = value instead\n",
      "\n",
      "See the caveats in the documentation: https://pandas.pydata.org/pandas-docs/stable/user_guide/indexing.html#returning-a-view-versus-a-copy\n",
      "  new_df[\"thumbnail\"] = temp_df[\"thumbnail\"]\n"
     ]
    }
   ],
   "source": [
    "new_df[\"thumbnail\"] = temp_df[\"thumbnail\"]"
   ]
  },
  {
   "cell_type": "code",
   "execution_count": 82,
   "id": "b4e7c61b",
   "metadata": {},
   "outputs": [
    {
     "data": {
      "text/html": [
       "<div>\n",
       "<style scoped>\n",
       "    .dataframe tbody tr th:only-of-type {\n",
       "        vertical-align: middle;\n",
       "    }\n",
       "\n",
       "    .dataframe tbody tr th {\n",
       "        vertical-align: top;\n",
       "    }\n",
       "\n",
       "    .dataframe thead th {\n",
       "        text-align: right;\n",
       "    }\n",
       "</style>\n",
       "<table border=\"1\" class=\"dataframe\">\n",
       "  <thead>\n",
       "    <tr style=\"text-align: right;\">\n",
       "      <th></th>\n",
       "      <th>id</th>\n",
       "      <th>song</th>\n",
       "      <th>tags</th>\n",
       "      <th>thumbnail</th>\n",
       "    </tr>\n",
       "  </thead>\n",
       "  <tbody>\n",
       "    <tr>\n",
       "      <th>0</th>\n",
       "      <td>1tqysapcCh1lWEAc9dIFpa</td>\n",
       "      <td>dil galti kar baitha hai</td>\n",
       "      <td>dil galti kar baitha hai,jubin nautiyal, meet ...</td>\n",
       "      <td>https://i.scdn.co/image/ab6761610000e5eb1a9d9c...</td>\n",
       "    </tr>\n",
       "    <tr>\n",
       "      <th>1</th>\n",
       "      <td>4mRPyvdSBxARQIFeXXM13s</td>\n",
       "      <td>saamna</td>\n",
       "      <td>saamna,akasa,desi pop, modern bollywood,20,54</td>\n",
       "      <td>https://i.scdn.co/image/ab6761610000e5eb626c03...</td>\n",
       "    </tr>\n",
       "    <tr>\n",
       "      <th>2</th>\n",
       "      <td>3tPQOjkxO3mrYrrgkTeXgH</td>\n",
       "      <td>main teri ho gayi</td>\n",
       "      <td>main teri ho gayi,nikhita gandhi,desi pop, mod...</td>\n",
       "      <td>https://i.scdn.co/image/ab6761610000e5eb5328de...</td>\n",
       "    </tr>\n",
       "    <tr>\n",
       "      <th>3</th>\n",
       "      <td>2sN4fSzAm2rAL0HIurPCEM</td>\n",
       "      <td>teri meri ladayi</td>\n",
       "      <td>teri meri ladayi,maninder buttar, akasa,desi h...</td>\n",
       "      <td>https://i.scdn.co/image/ab6761610000e5eb5b4f3f...</td>\n",
       "    </tr>\n",
       "    <tr>\n",
       "      <th>4</th>\n",
       "      <td>6WOdPJmexxFINcKMkP2jMG</td>\n",
       "      <td>maiyya mainu</td>\n",
       "      <td>jersey ,sachet tandon,desi pop, modern bollywo...</td>\n",
       "      <td>https://i.scdn.co/image/ab6761610000e5ebb81628...</td>\n",
       "    </tr>\n",
       "  </tbody>\n",
       "</table>\n",
       "</div>"
      ],
      "text/plain": [
       "                       id                      song  \\\n",
       "0  1tqysapcCh1lWEAc9dIFpa  dil galti kar baitha hai   \n",
       "1  4mRPyvdSBxARQIFeXXM13s                    saamna   \n",
       "2  3tPQOjkxO3mrYrrgkTeXgH         main teri ho gayi   \n",
       "3  2sN4fSzAm2rAL0HIurPCEM          teri meri ladayi   \n",
       "4  6WOdPJmexxFINcKMkP2jMG              maiyya mainu   \n",
       "\n",
       "                                                tags  \\\n",
       "0  dil galti kar baitha hai,jubin nautiyal, meet ...   \n",
       "1      saamna,akasa,desi pop, modern bollywood,20,54   \n",
       "2  main teri ho gayi,nikhita gandhi,desi pop, mod...   \n",
       "3  teri meri ladayi,maninder buttar, akasa,desi h...   \n",
       "4  jersey ,sachet tandon,desi pop, modern bollywo...   \n",
       "\n",
       "                                           thumbnail  \n",
       "0  https://i.scdn.co/image/ab6761610000e5eb1a9d9c...  \n",
       "1  https://i.scdn.co/image/ab6761610000e5eb626c03...  \n",
       "2  https://i.scdn.co/image/ab6761610000e5eb5328de...  \n",
       "3  https://i.scdn.co/image/ab6761610000e5eb5b4f3f...  \n",
       "4  https://i.scdn.co/image/ab6761610000e5ebb81628...  "
      ]
     },
     "execution_count": 82,
     "metadata": {},
     "output_type": "execute_result"
    }
   ],
   "source": [
    "new_df.head()"
   ]
  },
  {
   "cell_type": "code",
   "execution_count": 83,
   "id": "4fb6067d",
   "metadata": {},
   "outputs": [],
   "source": [
    "new_df.to_csv(\"models/data.csv\")"
   ]
  },
  {
   "cell_type": "code",
   "execution_count": 93,
   "id": "a4fe197e",
   "metadata": {},
   "outputs": [
    {
     "data": {
      "text/plain": [
       "1    https://i.scdn.co/image/ab6761610000e5eb626c03...\n",
       "Name: thumbnail, dtype: object"
      ]
     },
     "execution_count": 93,
     "metadata": {},
     "output_type": "execute_result"
    }
   ],
   "source": [
    "song_name = \"saamna\"\n",
    "full_path = new_df.query(f\"song == '{song_name}'\")[\"thumbnail\"]\n",
    "full_path"
   ]
  },
  {
   "cell_type": "code",
   "execution_count": null,
   "id": "1a0dd9df",
   "metadata": {},
   "outputs": [],
   "source": []
  },
  {
   "cell_type": "code",
   "execution_count": 95,
   "id": "654810b1",
   "metadata": {},
   "outputs": [
    {
     "name": "stderr",
     "output_type": "stream",
     "text": [
      "2022-05-23 07:22:04.049 \n",
      "  \u001b[33m\u001b[1mWarning:\u001b[0m to view this Streamlit app on a browser, run it with the following\n",
      "  command:\n",
      "\n",
      "    streamlit run G:\\Program_Files\\Anaconda\\lib\\site-packages\\ipykernel_launcher.py [ARGUMENTS]\n"
     ]
    }
   ],
   "source": [
    "import streamlit as st\n",
    "import pickle\n",
    "import pandas as pd\n",
    "import requests\n",
    "\n",
    "music_dict = pickle.load(open('models/music_dict.pkl', 'rb'))\n",
    "similarity = pickle.load(open('models/similarity.pkl', 'rb'))\n",
    "musics = pd.DataFrame(music_dict)\n",
    "\n",
    "st.title(\"Music recommandation system\")\n",
    "\n",
    "music_list = musics['song'].values\n",
    "music_name = st.selectbox(\n",
    "    \"Type or select a music from the dropdown\",\n",
    "    music_list\n",
    ")\n",
    "\n",
    "\n",
    "def fetch_poster(song_name):\n",
    "    full_path = new_df.query(f\"song == '{song_name}'\")[\"thumbnail\"]\n",
    "    return full_path"
   ]
  },
  {
   "cell_type": "code",
   "execution_count": 106,
   "id": "d2896fb4",
   "metadata": {},
   "outputs": [],
   "source": [
    "music_index = musics[musics['song'] == music_name].index[0]\n",
    "distances = similarity[music_index]\n",
    "musics_list = sorted(list(enumerate(distances)), reverse=True, key=lambda x: x[1])[0:7]\n",
    "\n",
    "recommanded_music = []\n",
    "recommanded_music_poster = []\n",
    "for i in musics_list:\n",
    "    music_id = musics.iloc[i[0]].id\n",
    "    # fetch poster from API\n",
    "    recommanded_music_poster.append(fetch_poster(music_id))\n",
    "    # fetch movie title\n",
    "    recommanded_music.append(musics.iloc[i[0]].song)"
   ]
  },
  {
   "cell_type": "code",
   "execution_count": 109,
   "id": "5cc2b2fe",
   "metadata": {},
   "outputs": [
    {
     "name": "stdout",
     "output_type": "stream",
     "text": [
      "0    https://i.scdn.co/image/ab6761610000e5eb1a9d9c...\n",
      "Name: thumbnail, dtype: object\n"
     ]
    }
   ],
   "source": [
    "print(fetch_poster(music_name))"
   ]
  },
  {
   "cell_type": "code",
   "execution_count": 111,
   "id": "f8524f9d",
   "metadata": {},
   "outputs": [
    {
     "data": {
      "text/plain": [
       "'dhal jaun main'"
      ]
     },
     "execution_count": 111,
     "metadata": {},
     "output_type": "execute_result"
    }
   ],
   "source": [
    "musics.iloc[i[0]].song"
   ]
  },
  {
   "cell_type": "code",
   "execution_count": 113,
   "id": "58dd7ffe",
   "metadata": {},
   "outputs": [],
   "source": [
    "def recommand(song):\n",
    "    music_index = musics[musics['song'] == song].index[0]\n",
    "    distances = similarity[music_index]\n",
    "    musics_list = sorted(list(enumerate(distances)), reverse=True, key=lambda x: x[1])[0:7]\n",
    "\n",
    "    recommanded_music = []\n",
    "    recommanded_music_poster = []\n",
    "    for i in musics_list:\n",
    "        song_name = musics.iloc[i[0]].song\n",
    "        # fetch poster from new-df csv\n",
    "        recommanded_music_poster.append(fetch_poster(song_name))\n",
    "        # fetch movie title\n",
    "        recommanded_music.append(musics.iloc[i[0]].song)\n",
    "\n",
    "    return recommanded_music, recommanded_music_poster"
   ]
  },
  {
   "cell_type": "code",
   "execution_count": 127,
   "id": "f9bd6e8e",
   "metadata": {},
   "outputs": [],
   "source": [
    "m,p = recommand(music_name)"
   ]
  },
  {
   "cell_type": "code",
   "execution_count": 128,
   "id": "2f86447d",
   "metadata": {},
   "outputs": [
    {
     "data": {
      "text/plain": [
       "['dil galti kar baitha hai',\n",
       " 'kuch din',\n",
       " 'dil chahte ho',\n",
       " 'phir mulaaqat',\n",
       " 'le chala',\n",
       " 'phir se zara',\n",
       " 'dhal jaun main']"
      ]
     },
     "execution_count": 128,
     "metadata": {},
     "output_type": "execute_result"
    }
   ],
   "source": [
    "m"
   ]
  },
  {
   "cell_type": "code",
   "execution_count": 134,
   "id": "636984e5",
   "metadata": {},
   "outputs": [
    {
     "data": {
      "text/plain": [
       "2383"
      ]
     },
     "execution_count": 134,
     "metadata": {},
     "output_type": "execute_result"
    }
   ],
   "source": [
    "p[1].index[0]"
   ]
  },
  {
   "cell_type": "code",
   "execution_count": 132,
   "id": "036d8715",
   "metadata": {},
   "outputs": [
    {
     "data": {
      "text/plain": [
       "'https://i.scdn.co/image/ab6761610000e5ebda1f4136a46f6a9cd99382bf'"
      ]
     },
     "execution_count": 132,
     "metadata": {},
     "output_type": "execute_result"
    }
   ],
   "source": [
    "new_df.thumbnail[2283]"
   ]
  },
  {
   "cell_type": "code",
   "execution_count": 135,
   "id": "275956e6",
   "metadata": {},
   "outputs": [
    {
     "ename": "SyntaxError",
     "evalue": "invalid syntax (<ipython-input-135-4b2256c3a9b6>, line 1)",
     "output_type": "error",
     "traceback": [
      "\u001b[1;36m  File \u001b[1;32m\"<ipython-input-135-4b2256c3a9b6>\"\u001b[1;36m, line \u001b[1;32m1\u001b[0m\n\u001b[1;33m    https://gaana.com/search/jhoom\u001b[0m\n\u001b[1;37m          ^\u001b[0m\n\u001b[1;31mSyntaxError\u001b[0m\u001b[1;31m:\u001b[0m invalid syntax\n"
     ]
    }
   ],
   "source": [
    "\"https://gaana.com/search/jhoom\"\n",
    "\"https://gaana.com/search/paharon%20ki%20qasam\""
   ]
  },
  {
   "cell_type": "code",
   "execution_count": null,
   "id": "f8dd867b",
   "metadata": {},
   "outputs": [],
   "source": []
  },
  {
   "cell_type": "code",
   "execution_count": null,
   "id": "3137bc9e",
   "metadata": {},
   "outputs": [],
   "source": []
  },
  {
   "cell_type": "code",
   "execution_count": null,
   "id": "d73d5aad",
   "metadata": {},
   "outputs": [],
   "source": []
  }
 ],
 "metadata": {
  "kernelspec": {
   "display_name": "Python 3",
   "language": "python",
   "name": "python3"
  },
  "language_info": {
   "codemirror_mode": {
    "name": "ipython",
    "version": 3
   },
   "file_extension": ".py",
   "mimetype": "text/x-python",
   "name": "python",
   "nbconvert_exporter": "python",
   "pygments_lexer": "ipython3",
   "version": "3.8.8"
  }
 },
 "nbformat": 4,
 "nbformat_minor": 5
}
