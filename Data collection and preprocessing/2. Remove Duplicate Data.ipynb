{
 "cells": [
  {
   "cell_type": "code",
   "execution_count": 1,
   "id": "70346a7c",
   "metadata": {},
   "outputs": [],
   "source": [
    "import pandas as pd\n",
    "\n",
    "df = pd.read_csv(\"playlist_37.csv\")\n",
    "df.tail(8)"
   ]
  },
  {
   "cell_type": "code",
   "execution_count": 39,
   "id": "95425f83",
   "metadata": {},
   "outputs": [
    {
     "data": {
      "text/plain": [
       "Unnamed: 0    57\n",
       "song          57\n",
       "album         57\n",
       "singers       57\n",
       "genres        57\n",
       "popularity    57\n",
       "decade        57\n",
       "thumbnail     57\n",
       "dtype: int64"
      ]
     },
     "execution_count": 39,
     "metadata": {},
     "output_type": "execute_result"
    }
   ],
   "source": [
    "df.count()"
   ]
  },
  {
   "cell_type": "code",
   "execution_count": 41,
   "id": "8181d7d8",
   "metadata": {},
   "outputs": [],
   "source": [
    "# dropping ALL duplicate values\n",
    "df.drop_duplicates(subset =\"song\", keep = False, inplace = True)"
   ]
  },
  {
   "cell_type": "code",
   "execution_count": 42,
   "id": "e3a7cffd",
   "metadata": {},
   "outputs": [
    {
     "data": {
      "text/plain": [
       "song          49\n",
       "album         49\n",
       "singers       49\n",
       "genres        49\n",
       "popularity    49\n",
       "decade        49\n",
       "thumbnail     49\n",
       "dtype: int64"
      ]
     },
     "execution_count": 42,
     "metadata": {},
     "output_type": "execute_result"
    }
   ],
   "source": [
    "df.count()"
   ]
  },
  {
   "cell_type": "code",
   "execution_count": 43,
   "id": "4c94af91",
   "metadata": {},
   "outputs": [
    {
     "data": {
      "text/html": [
       "<div>\n",
       "<style scoped>\n",
       "    .dataframe tbody tr th:only-of-type {\n",
       "        vertical-align: middle;\n",
       "    }\n",
       "\n",
       "    .dataframe tbody tr th {\n",
       "        vertical-align: top;\n",
       "    }\n",
       "\n",
       "    .dataframe thead th {\n",
       "        text-align: right;\n",
       "    }\n",
       "</style>\n",
       "<table border=\"1\" class=\"dataframe\">\n",
       "  <thead>\n",
       "    <tr style=\"text-align: right;\">\n",
       "      <th></th>\n",
       "      <th>song</th>\n",
       "      <th>album</th>\n",
       "      <th>singers</th>\n",
       "      <th>genres</th>\n",
       "      <th>popularity</th>\n",
       "      <th>decade</th>\n",
       "      <th>thumbnail</th>\n",
       "    </tr>\n",
       "  </thead>\n",
       "  <tbody>\n",
       "    <tr>\n",
       "      <th>45</th>\n",
       "      <td>Dil Ko Karaar Aaya</td>\n",
       "      <td>Dil Ko Karaar Aaya</td>\n",
       "      <td>['Yasser Desai', 'Neha Kakkar', 'Rajat Nagpal']</td>\n",
       "      <td>['desi pop', 'filmi', 'modern bollywood']</td>\n",
       "      <td>67</td>\n",
       "      <td>20</td>\n",
       "      <td>https://i.scdn.co/image/ab6761610000e5eb2b7ca3...</td>\n",
       "    </tr>\n",
       "    <tr>\n",
       "      <th>46</th>\n",
       "      <td>Thoda Thoda Pyaar</td>\n",
       "      <td>Thoda Thoda Pyaar</td>\n",
       "      <td>['Stebin Ben', 'Nilesh Ahuja', 'Kumaar']</td>\n",
       "      <td>['desi pop', 'modern bollywood']</td>\n",
       "      <td>64</td>\n",
       "      <td>20</td>\n",
       "      <td>https://i.scdn.co/image/ab6761610000e5eb365ac4...</td>\n",
       "    </tr>\n",
       "    <tr>\n",
       "      <th>47</th>\n",
       "      <td>Tu Aake Dekhle</td>\n",
       "      <td>The Carnival</td>\n",
       "      <td>['King']</td>\n",
       "      <td>['desi hip hop', 'desi pop', 'hindi hip hop']</td>\n",
       "      <td>64</td>\n",
       "      <td>20</td>\n",
       "      <td>https://i.scdn.co/image/ab6761610000e5eb48f986...</td>\n",
       "    </tr>\n",
       "    <tr>\n",
       "      <th>48</th>\n",
       "      <td>Taaron Ke Shehar</td>\n",
       "      <td>Taaron Ke Shehar</td>\n",
       "      <td>['Neha Kakkar', 'Jubin Nautiyal', 'Jaani']</td>\n",
       "      <td>['desi pop', 'filmi', 'modern bollywood']</td>\n",
       "      <td>74</td>\n",
       "      <td>20</td>\n",
       "      <td>https://i.scdn.co/image/ab6761610000e5eb2eb367...</td>\n",
       "    </tr>\n",
       "    <tr>\n",
       "      <th>49</th>\n",
       "      <td>Shayad</td>\n",
       "      <td>Shayad</td>\n",
       "      <td>['Pritam', 'Arijit Singh']</td>\n",
       "      <td>['desi pop', 'filmi', 'indian instrumental', '...</td>\n",
       "      <td>82</td>\n",
       "      <td>20</td>\n",
       "      <td>https://i.scdn.co/image/ab6761610000e5eb996679...</td>\n",
       "    </tr>\n",
       "    <tr>\n",
       "      <th>50</th>\n",
       "      <td>Garmi</td>\n",
       "      <td>Garmi</td>\n",
       "      <td>['Badshah', 'Neha Kakkar', 'Varun Dhawan']</td>\n",
       "      <td>['desi hip hop', 'desi pop', 'desi trap', 'har...</td>\n",
       "      <td>74</td>\n",
       "      <td>20</td>\n",
       "      <td>https://i.scdn.co/image/ab6761610000e5eb65c485...</td>\n",
       "    </tr>\n",
       "    <tr>\n",
       "      <th>51</th>\n",
       "      <td>Mehrama</td>\n",
       "      <td>Mehrama</td>\n",
       "      <td>['Pritam', 'Darshan Raval', 'Antara Mitra']</td>\n",
       "      <td>['desi pop', 'filmi', 'indian instrumental', '...</td>\n",
       "      <td>82</td>\n",
       "      <td>20</td>\n",
       "      <td>https://i.scdn.co/image/ab6761610000e5eb996679...</td>\n",
       "    </tr>\n",
       "    <tr>\n",
       "      <th>52</th>\n",
       "      <td>Tu Hi Yaar Mera</td>\n",
       "      <td>Tu Hi Yaar Mera</td>\n",
       "      <td>['Rochak Kohli', 'Arijit Singh', 'Neha Kakkar']</td>\n",
       "      <td>['desi pop', 'modern bollywood']</td>\n",
       "      <td>68</td>\n",
       "      <td>20</td>\n",
       "      <td>https://i.scdn.co/image/ab6761610000e5ebf5307f...</td>\n",
       "    </tr>\n",
       "  </tbody>\n",
       "</table>\n",
       "</div>"
      ],
      "text/plain": [
       "                   song                album  \\\n",
       "45  Dil Ko Karaar Aaya   Dil Ko Karaar Aaya    \n",
       "46    Thoda Thoda Pyaar    Thoda Thoda Pyaar   \n",
       "47       Tu Aake Dekhle         The Carnival   \n",
       "48     Taaron Ke Shehar     Taaron Ke Shehar   \n",
       "49              Shayad               Shayad    \n",
       "50               Garmi                Garmi    \n",
       "51             Mehrama              Mehrama    \n",
       "52     Tu Hi Yaar Mera      Tu Hi Yaar Mera    \n",
       "\n",
       "                                            singers  \\\n",
       "45  ['Yasser Desai', 'Neha Kakkar', 'Rajat Nagpal']   \n",
       "46         ['Stebin Ben', 'Nilesh Ahuja', 'Kumaar']   \n",
       "47                                         ['King']   \n",
       "48       ['Neha Kakkar', 'Jubin Nautiyal', 'Jaani']   \n",
       "49                       ['Pritam', 'Arijit Singh']   \n",
       "50       ['Badshah', 'Neha Kakkar', 'Varun Dhawan']   \n",
       "51      ['Pritam', 'Darshan Raval', 'Antara Mitra']   \n",
       "52  ['Rochak Kohli', 'Arijit Singh', 'Neha Kakkar']   \n",
       "\n",
       "                                               genres  popularity  decade  \\\n",
       "45          ['desi pop', 'filmi', 'modern bollywood']          67      20   \n",
       "46                   ['desi pop', 'modern bollywood']          64      20   \n",
       "47      ['desi hip hop', 'desi pop', 'hindi hip hop']          64      20   \n",
       "48          ['desi pop', 'filmi', 'modern bollywood']          74      20   \n",
       "49  ['desi pop', 'filmi', 'indian instrumental', '...          82      20   \n",
       "50  ['desi hip hop', 'desi pop', 'desi trap', 'har...          74      20   \n",
       "51  ['desi pop', 'filmi', 'indian instrumental', '...          82      20   \n",
       "52                   ['desi pop', 'modern bollywood']          68      20   \n",
       "\n",
       "                                            thumbnail  \n",
       "45  https://i.scdn.co/image/ab6761610000e5eb2b7ca3...  \n",
       "46  https://i.scdn.co/image/ab6761610000e5eb365ac4...  \n",
       "47  https://i.scdn.co/image/ab6761610000e5eb48f986...  \n",
       "48  https://i.scdn.co/image/ab6761610000e5eb2eb367...  \n",
       "49  https://i.scdn.co/image/ab6761610000e5eb996679...  \n",
       "50  https://i.scdn.co/image/ab6761610000e5eb65c485...  \n",
       "51  https://i.scdn.co/image/ab6761610000e5eb996679...  \n",
       "52  https://i.scdn.co/image/ab6761610000e5ebf5307f...  "
      ]
     },
     "execution_count": 43,
     "metadata": {},
     "output_type": "execute_result"
    }
   ],
   "source": [
    "df.tail(8)"
   ]
  },
  {
   "cell_type": "code",
   "execution_count": null,
   "id": "81f2283a",
   "metadata": {},
   "outputs": [],
   "source": []
  }
 ],
 "metadata": {
  "kernelspec": {
   "display_name": "Python 3",
   "language": "python",
   "name": "python3"
  },
  "language_info": {
   "codemirror_mode": {
    "name": "ipython",
    "version": 3
   },
   "file_extension": ".py",
   "mimetype": "text/x-python",
   "name": "python",
   "nbconvert_exporter": "python",
   "pygments_lexer": "ipython3",
   "version": "3.8.8"
  }
 },
 "nbformat": 4,
 "nbformat_minor": 5
}
